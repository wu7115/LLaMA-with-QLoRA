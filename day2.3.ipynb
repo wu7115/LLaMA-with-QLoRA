{
 "cells": [
  {
   "cell_type": "markdown",
   "id": "2a0f44a9-37cd-4aa5-9b20-cfc0dc8dfc0a",
   "metadata": {},
   "source": [
    "# The Price is Right\n",
    "\n",
    "Today we build a more complex solution for estimating prices of goods.\n",
    "\n",
    "1. Day 2.0 notebook: create a RAG database with our 400,000 training data\n",
    "2. Day 2.1 notebook: visualize in 2D\n",
    "3. Day 2.2 notebook: visualize in 3D\n",
    "4. Day 2.3 notebook: build and test a RAG pipeline with GPT-4o-mini\n",
    "5. Day 2.4 notebook: (a) bring back our Random Forest pricer (b) Create a Ensemble pricer that allows contributions from all the pricers\n",
    "\n",
    "Phew! That's a lot to get through in one day!\n",
    "\n",
    "## PLEASE NOTE:\n",
    "\n",
    "We already have a very powerful product estimator with our proprietary, fine-tuned LLM. Most people would be very satisfied with that! The main reason we're adding these extra steps is to deepen your expertise with RAG and with Agentic workflows.\n",
    "\n",
    "## We will go fast today! Hold on to your hat.."
   ]
  },
  {
   "cell_type": "code",
   "execution_count": 1,
   "id": "fbcdfea8-7241-46d7-a771-c0381a3e7063",
   "metadata": {},
   "outputs": [],
   "source": [
    "# imports\n",
    "\n",
    "import os\n",
    "import re\n",
    "import math\n",
    "import json\n",
    "from tqdm import tqdm\n",
    "import random\n",
    "from dotenv import load_dotenv\n",
    "from huggingface_hub import login\n",
    "import matplotlib.pyplot as plt\n",
    "import numpy as np\n",
    "import pickle\n",
    "from openai import OpenAI\n",
    "from sentence_transformers import SentenceTransformer\n",
    "from datasets import load_dataset\n",
    "import chromadb\n",
    "from items import Item\n",
    "from testing import Tester"
   ]
  },
  {
   "cell_type": "code",
   "execution_count": 2,
   "id": "98666e73-938e-469d-8987-e6e55ba5e034",
   "metadata": {},
   "outputs": [],
   "source": [
    "# environment\n",
    "\n",
    "load_dotenv()\n",
    "os.environ['OPENAI_API_KEY'] = os.getenv('OPENAI_API_KEY', 'your-key-if-not-using-env')\n",
    "os.environ['HF_TOKEN'] = os.getenv('HF_TOKEN', 'your-key-if-not-using-env')"
   ]
  },
  {
   "cell_type": "code",
   "execution_count": 3,
   "id": "9a25a5cf-8f6c-4b5d-ad98-fdd096f5adf8",
   "metadata": {},
   "outputs": [],
   "source": [
    "openai = OpenAI()"
   ]
  },
  {
   "cell_type": "code",
   "execution_count": 4,
   "id": "dc696493-0b6f-48aa-9fa8-b1ae0ecaf3cd",
   "metadata": {},
   "outputs": [],
   "source": [
    "# Load in the test pickle file\n",
    "# See the section \"Back to the PKL files\" in the day2.0 notebook\n",
    "# for instructions on obtaining this test.pkl file\n",
    "\n",
    "with open('test.pkl', 'rb') as file:\n",
    "    test = pickle.load(file)"
   ]
  },
  {
   "cell_type": "code",
   "execution_count": 5,
   "id": "33d38a06-0c0d-4e96-94d1-35ee183416ce",
   "metadata": {},
   "outputs": [],
   "source": [
    "def make_context(similars, prices):\n",
    "    message = \"To provide some context, here are some other items that might be similar to the item you need to estimate.\\n\\n\"\n",
    "    for similar, price in zip(similars, prices):\n",
    "        message += f\"Potentially related product:\\n{similar}\\nPrice is ${price:.2f}\\n\\n\"\n",
    "    return message"
   ]
  },
  {
   "cell_type": "code",
   "execution_count": 6,
   "id": "61f203b7-63b6-48ed-869b-e393b5bfcad3",
   "metadata": {},
   "outputs": [],
   "source": [
    "def messages_for(item, similars, prices):\n",
    "    system_message = \"You estimate prices of items. Reply only with the price, no explanation\"\n",
    "    user_prompt = make_context(similars, prices)\n",
    "    user_prompt += \"And now the question for you:\\n\\n\"\n",
    "    user_prompt += item.test_prompt().replace(\" to the nearest dollar\",\"\").replace(\"\\n\\nPrice is $\",\"\")\n",
    "    return [\n",
    "        {\"role\": \"system\", \"content\": system_message},\n",
    "        {\"role\": \"user\", \"content\": user_prompt},\n",
    "        {\"role\": \"assistant\", \"content\": \"Price is $\"}\n",
    "    ]"
   ]
  },
  {
   "cell_type": "code",
   "execution_count": 7,
   "id": "b26f405d-6e1f-4caa-b97f-1f62cd9d1ebc",
   "metadata": {},
   "outputs": [],
   "source": [
    "DB = \"products_vectorstore\""
   ]
  },
  {
   "cell_type": "code",
   "execution_count": 8,
   "id": "d26a1104-cd11-4361-ab25-85fb576e0582",
   "metadata": {},
   "outputs": [],
   "source": [
    "client = chromadb.PersistentClient(path=DB)\n",
    "collection = client.get_or_create_collection('products')"
   ]
  },
  {
   "cell_type": "code",
   "execution_count": 9,
   "id": "1e339760-96d8-4485-bec7-43fadcd30c4d",
   "metadata": {},
   "outputs": [],
   "source": [
    "def description(item):\n",
    "    text = item.prompt.replace(\"How much does this cost to the nearest dollar?\\n\\n\", \"\")\n",
    "    return text.split(\"\\n\\nPrice is $\")[0]"
   ]
  },
  {
   "cell_type": "code",
   "execution_count": 10,
   "id": "a1bd0c87-8bad-43d9-9461-bb69a9e0e22c",
   "metadata": {},
   "outputs": [
    {
     "data": {
      "text/plain": [
       "'Front Complete Struts Ball Joints Tie Rods Links Replacement Parts For Armada 05-15 4 WHEEL DRIVE\\nThis item is a Spring Struts + Chassis Parts. It will fit the following years and Replacement Parts For Nissan Armada 5.6L V8 4 WHEEL Replacement Parts For Infiniti QX56 5.6L Replacement Parts For Nissan Titan 5.6L V8 4 WHEEL DRIVEKit Includes ( 8pc Fits FRONT )2x Part# 11300 New Front Left & Right Complete Spring Struts PREMIUM BRAND 100% TESTED WITH VARI RATE SPRINGS & IMPROVED UPPER Part# K80647 New Lower Ball Part# New Front L & R Sway Bar Part# New Front'"
      ]
     },
     "execution_count": 10,
     "metadata": {},
     "output_type": "execute_result"
    }
   ],
   "source": [
    "description(test[0])"
   ]
  },
  {
   "cell_type": "code",
   "execution_count": 11,
   "id": "9f759bd2-7a7e-4c1a-80a0-e12470feca89",
   "metadata": {},
   "outputs": [],
   "source": [
    "model = SentenceTransformer('sentence-transformers/all-MiniLM-L6-v2')"
   ]
  },
  {
   "cell_type": "code",
   "execution_count": 12,
   "id": "e44dbd25-fb95-4b6b-bbbb-8da5fc817105",
   "metadata": {},
   "outputs": [],
   "source": [
    "def vector(item):\n",
    "    return model.encode([description(item)])"
   ]
  },
  {
   "cell_type": "code",
   "execution_count": 13,
   "id": "ffd5ee47-db5d-4263-b0d9-80d568c91341",
   "metadata": {},
   "outputs": [],
   "source": [
    "def find_similars(item):\n",
    "    results = collection.query(query_embeddings=vector(item).astype(float).tolist(), n_results=5)\n",
    "    documents = results['documents'][0][:]\n",
    "    prices = [m['price'] for m in results['metadatas'][0][:]]\n",
    "    return documents, prices"
   ]
  },
  {
   "cell_type": "code",
   "execution_count": 14,
   "id": "6f7b9ff9-fd90-4627-bb17-7c2f7bbd21f3",
   "metadata": {},
   "outputs": [
    {
     "data": {
      "text/plain": [
       "'How much does this cost to the nearest dollar?\\n\\nHITBOX MIG 5 in 1 Gas MIG/Gasless Flux Core MIG/Stick/Lift TIG/Spot welding/Aluminum Multi Process Welding Machine with LED Digital Display\\nDual Voltage 110V and 220V can be used.Powerful welding with ultra high current. Equipped with the latest IGBT inverter, the arc response is fast and stable,Suitable for all kinds of welding requirements solid wire, flux core wire, aluminum wire MIG welding can correspond to base material such as carbon steel, stainless steel, aluminum, iron. When welding aluminum, need to change our special aluminum liner to the torch. 2T / 4T / tap welding installation MIG welding can select 2T / 4T / tap welding mode. \\n\\nPrice is $350.00'"
      ]
     },
     "execution_count": 14,
     "metadata": {},
     "output_type": "execute_result"
    }
   ],
   "source": [
    "test[1].prompt"
   ]
  },
  {
   "cell_type": "code",
   "execution_count": 15,
   "id": "ff1b2659-cc6b-47aa-a797-dd1cd3d1d6c3",
   "metadata": {},
   "outputs": [],
   "source": [
    "documents, prices = find_similars(test[1])"
   ]
  },
  {
   "cell_type": "code",
   "execution_count": 16,
   "id": "24756d4d-edac-41ce-bb80-c3b6f1cea7ee",
   "metadata": {},
   "outputs": [
    {
     "name": "stdout",
     "output_type": "stream",
     "text": [
      "To provide some context, here are some other items that might be similar to the item you need to estimate.\n",
      "\n",
      "Potentially related product:\n",
      "HITBOX MIG Welder 200A Dual Voltage Color Smart LCD Display IGBT Inverter Multifunction MIG MMA Lift TIG Stick Gas Mix Gases Gasless Flux Cored Wire Solid Core Wire Welding Machine\n",
      "★ DUAL VOLTAGE MULTIFUNCTIONAL WELDER - HITBOX is dual voltage with MIG/ARC/LIFT TIG gas gasless multi Functions. It came with color LCD display with make the setting parameter very easy to read. It is super easy and convenient to chose the welding mode by pressing the “Selection” button. Once choosing the mode you need, the mode will light up with its matching color. ★ MIG FUNCTION - HITBOX welder supports gas, mix gas and gasless function. This welder can work with welding wire\n",
      "Price is $249.99\n",
      "\n",
      "Potentially related product:\n",
      "HITBOX 6 in 1 MIG Welder, Ture 200Amp Multi process Aluminum Flux Core Welder 110V 220V Synergic Gas MIG/Gasless MIG/ARC/Lift TIG/Spool Gun/IGBT Quiet Inverter Welder With Digital LCD Display\n",
      "6 In 1 Multi-Process MIG Welder The mig welder gas meet you flux core welding, solid core welding, mma, lift tig, spot welding and spool gun welding(not include spool gun). It also offer 2 welding modes - Manual welding & SYN welding. HITBOX MIG200 suits all welding wires, such as solid wire, flux core wire, aluminum wire. Synergic Control & Non Noise Equipped with a smart\n",
      "Price is $489.99\n",
      "\n",
      "Potentially related product:\n",
      "HITBOX Aluminum MIG Welder IGBT Gas MIG Gasless Flux Core Welding Machine MIG/Lift TIG/Stick 3 in 1 Inverter Welder\n",
      "Synergic Control MIG Function allows the automatic change of the voltage & wire feeding speed by adjusting the amperage or choosing different thicknesses. It will match the welding chart set in the data. making it extremely easy for your welding works MMA/ARC Stick Hot start function make the arc ignition in MMA welding easier and avoid adhesion. The arc force up to 200A current obviously improve the performance of the machine in long-cable welding. Ability to use up to 165 feet (50 meters) leads without any power loss at the weld Lift Tig For welding with higher requirements, the lift-t\n",
      "Price is $349.99\n",
      "\n",
      "Potentially related product:\n",
      "TTAMPLAR MIG Welder - 4 in 1 Flux MIG/Solid Wire/Stick ARC/Lift TIG 135D Gas/Gasless welding, Dual Voltage IGBT Inverter Welding Machine\n",
      "✨Multi-functions The welder machine has gas MIG, flux MIG, Lift-Tig, Stick MMA 4 modes. You can choose different modes to meet your multiple welding needs. It supports input voltage, the wire feeding speed and voltage values are intelligently matched automatically. ✨Various Welding The MIG welder support solid wire and flux core wire; Support electrode for MMA. Lift TIG is available with a TIG Torch WP17V (Note TIG Torch is not included.) ✨Safety The welding machine has overheat & overload protection,\n",
      "Price is $170.99\n",
      "\n",
      "Potentially related product:\n",
      "NEW!! SPARKER LCD Digital MIG yesWelder, 200Amp Dual Voltage, Gas Gasless MIG Welding Machine MIG/Lift TIG/ARC 3 in 1 Multiprocess Aluminum MIG Welder\n",
      "Well-known brand IGBT modules used as main power components. display of current and voltage. control system, real-time display the welding parameters. Digital voltmeter and amp meters for easy viewing 4.ARC force can be adjustable widely. overload, over voltage and over current protection automatically shuts down the power source to prevent high repair cost. accessories--electrode holder, earth clamp with cable, mask, brush and carton box. 7.High duty cycle, professional MIG welder for industrial using,strong power. MIG,MMA & L\n",
      "Price is $349.00\n",
      "\n",
      "\n"
     ]
    }
   ],
   "source": [
    "print(make_context(documents, prices))"
   ]
  },
  {
   "cell_type": "code",
   "execution_count": 17,
   "id": "0b81eca2-0b58-4fe8-9dd6-47f13ba5f8ee",
   "metadata": {},
   "outputs": [
    {
     "name": "stdout",
     "output_type": "stream",
     "text": [
      "[{'role': 'system', 'content': 'You estimate prices of items. Reply only with the price, no explanation'}, {'role': 'user', 'content': 'To provide some context, here are some other items that might be similar to the item you need to estimate.\\n\\nPotentially related product:\\nHITBOX MIG Welder 200A Dual Voltage Color Smart LCD Display IGBT Inverter Multifunction MIG MMA Lift TIG Stick Gas Mix Gases Gasless Flux Cored Wire Solid Core Wire Welding Machine\\n★ DUAL VOLTAGE MULTIFUNCTIONAL WELDER - HITBOX is dual voltage with MIG/ARC/LIFT TIG gas gasless multi Functions. It came with color LCD display with make the setting parameter very easy to read. It is super easy and convenient to chose the welding mode by pressing the “Selection” button. Once choosing the mode you need, the mode will light up with its matching color. ★ MIG FUNCTION - HITBOX welder supports gas, mix gas and gasless function. This welder can work with welding wire\\nPrice is $249.99\\n\\nPotentially related product:\\nHITBOX 6 in 1 MIG Welder, Ture 200Amp Multi process Aluminum Flux Core Welder 110V 220V Synergic Gas MIG/Gasless MIG/ARC/Lift TIG/Spool Gun/IGBT Quiet Inverter Welder With Digital LCD Display\\n6 In 1 Multi-Process MIG Welder The mig welder gas meet you flux core welding, solid core welding, mma, lift tig, spot welding and spool gun welding(not include spool gun). It also offer 2 welding modes - Manual welding & SYN welding. HITBOX MIG200 suits all welding wires, such as solid wire, flux core wire, aluminum wire. Synergic Control & Non Noise Equipped with a smart\\nPrice is $489.99\\n\\nPotentially related product:\\nHITBOX Aluminum MIG Welder IGBT Gas MIG Gasless Flux Core Welding Machine MIG/Lift TIG/Stick 3 in 1 Inverter Welder\\nSynergic Control MIG Function allows the automatic change of the voltage & wire feeding speed by adjusting the amperage or choosing different thicknesses. It will match the welding chart set in the data. making it extremely easy for your welding works MMA/ARC Stick Hot start function make the arc ignition in MMA welding easier and avoid adhesion. The arc force up to 200A current obviously improve the performance of the machine in long-cable welding. Ability to use up to 165 feet (50 meters) leads without any power loss at the weld Lift Tig For welding with higher requirements, the lift-t\\nPrice is $349.99\\n\\nPotentially related product:\\nTTAMPLAR MIG Welder - 4 in 1 Flux MIG/Solid Wire/Stick ARC/Lift TIG 135D Gas/Gasless welding, Dual Voltage IGBT Inverter Welding Machine\\n✨Multi-functions The welder machine has gas MIG, flux MIG, Lift-Tig, Stick MMA 4 modes. You can choose different modes to meet your multiple welding needs. It supports input voltage, the wire feeding speed and voltage values are intelligently matched automatically. ✨Various Welding The MIG welder support solid wire and flux core wire; Support electrode for MMA. Lift TIG is available with a TIG Torch WP17V (Note TIG Torch is not included.) ✨Safety The welding machine has overheat & overload protection,\\nPrice is $170.99\\n\\nPotentially related product:\\nNEW!! SPARKER LCD Digital MIG yesWelder, 200Amp Dual Voltage, Gas Gasless MIG Welding Machine MIG/Lift TIG/ARC 3 in 1 Multiprocess Aluminum MIG Welder\\nWell-known brand IGBT modules used as main power components. display of current and voltage. control system, real-time display the welding parameters. Digital voltmeter and amp meters for easy viewing 4.ARC force can be adjustable widely. overload, over voltage and over current protection automatically shuts down the power source to prevent high repair cost. accessories--electrode holder, earth clamp with cable, mask, brush and carton box. 7.High duty cycle, professional MIG welder for industrial using,strong power. MIG,MMA & L\\nPrice is $349.00\\n\\nAnd now the question for you:\\n\\nHow much does this cost?\\n\\nHITBOX MIG 5 in 1 Gas MIG/Gasless Flux Core MIG/Stick/Lift TIG/Spot welding/Aluminum Multi Process Welding Machine with LED Digital Display\\nDual Voltage 110V and 220V can be used.Powerful welding with ultra high current. Equipped with the latest IGBT inverter, the arc response is fast and stable,Suitable for all kinds of welding requirements solid wire, flux core wire, aluminum wire MIG welding can correspond to base material such as carbon steel, stainless steel, aluminum, iron. When welding aluminum, need to change our special aluminum liner to the torch. 2T / 4T / tap welding installation MIG welding can select 2T / 4T / tap welding mode. '}, {'role': 'assistant', 'content': 'Price is $'}]\n"
     ]
    }
   ],
   "source": [
    "print(messages_for(test[1], documents, prices))"
   ]
  },
  {
   "cell_type": "code",
   "execution_count": 18,
   "id": "d11f1c8d-7480-4d64-a274-b030d701f1b8",
   "metadata": {},
   "outputs": [],
   "source": [
    "def get_price(s):\n",
    "    s = s.replace('$','').replace(',','')\n",
    "    match = re.search(r\"[-+]?\\d*\\.\\d+|\\d+\", s)\n",
    "    return float(match.group()) if match else 0"
   ]
  },
  {
   "cell_type": "code",
   "execution_count": 19,
   "id": "a919cf7d-b3d3-4968-8c96-54a0da0b0219",
   "metadata": {},
   "outputs": [],
   "source": [
    "# The function for gpt-4o-mini\n",
    "\n",
    "def gpt_4o_mini_rag(item):\n",
    "    documents, prices = find_similars(item)\n",
    "    response = openai.chat.completions.create(\n",
    "        model=\"gpt-4o-mini\", \n",
    "        messages=messages_for(item, documents, prices),\n",
    "        seed=42,\n",
    "        max_tokens=5\n",
    "    )\n",
    "    reply = response.choices[0].message.content\n",
    "    return get_price(reply)"
   ]
  },
  {
   "cell_type": "code",
   "execution_count": 20,
   "id": "3e519e26-ff15-4425-90bb-bfbf55deb39b",
   "metadata": {},
   "outputs": [
    {
     "data": {
      "text/plain": [
       "369.99"
      ]
     },
     "execution_count": 20,
     "metadata": {},
     "output_type": "execute_result"
    }
   ],
   "source": [
    "gpt_4o_mini_rag(test[1])"
   ]
  },
  {
   "cell_type": "code",
   "execution_count": 21,
   "id": "ce78741b-2966-41d2-9831-cbf8f8d176be",
   "metadata": {},
   "outputs": [
    {
     "data": {
      "text/plain": [
       "349.99"
      ]
     },
     "execution_count": 21,
     "metadata": {},
     "output_type": "execute_result"
    }
   ],
   "source": [
    "test[1].price"
   ]
  },
  {
   "cell_type": "code",
   "execution_count": 22,
   "id": "16d90455-ff7d-4f5f-8b8c-8e061263d1c7",
   "metadata": {},
   "outputs": [
    {
     "name": "stdout",
     "output_type": "stream",
     "text": [
      "\u001b[92m1: Guess: $315.00 Truth: $337.45 Error: $22.45 SLE: 0.00 Item: Front Complete Struts Ball Joints Tie Ro...\u001b[0m\n",
      "\u001b[92m2: Guess: $369.99 Truth: $349.99 Error: $20.00 SLE: 0.00 Item: HITBOX MIG Welder,200Amp 5 in 1 Gas MIG/...\u001b[0m\n",
      "\u001b[93m3: Guess: $151.28 Truth: $90.06 Error: $61.22 SLE: 0.26 Item: EBC Brakes DP42069R Yellowstuff Street a...\u001b[0m\n",
      "\u001b[91m4: Guess: $215.00 Truth: $382.07 Error: $167.07 SLE: 0.33 Item: Cardone 22-189 Remanufactured Hydraulic ...\u001b[0m\n",
      "\u001b[92m5: Guess: $109.00 Truth: $129.00 Error: $20.00 SLE: 0.03 Item: DANSEER Moravian Star Light Modern Brass...\u001b[0m\n",
      "\u001b[92m6: Guess: $380.97 Truth: $358.99 Error: $21.98 SLE: 0.00 Item: Firestone W217602190 Ride-Rite Kit for G...\u001b[0m\n",
      "\u001b[93m7: Guess: $199.99 Truth: $298.97 Error: $98.98 SLE: 0.16 Item: AmeriLite 2007-2013 For Chevy Avalanche/...\u001b[0m\n",
      "\u001b[91m8: Guess: $229.99 Truth: $135.00 Error: $94.99 SLE: 0.28 Item: SAMSUNG Galaxy Chromebook Go 2021 Laptop...\u001b[0m\n",
      "\u001b[91m9: Guess: $199.99 Truth: $365.00 Error: $165.01 SLE: 0.36 Item: Targus Thunderbolt 3 Docking Station wit...\u001b[0m\n",
      "\u001b[92m10: Guess: $39.99 Truth: $66.66 Error: $26.67 SLE: 0.25 Item: Tile Leveling System Kit 1/8\" Spacers Ti...\u001b[0m\n",
      "\u001b[92m11: Guess: $699.99 Truth: $655.39 Error: $44.60 SLE: 0.00 Item: VIZIO 65 Inch 4K Smart TV, V-Series UHD ...\u001b[0m\n",
      "\u001b[92m12: Guess: $386.99 Truth: $386.99 Error: $0.00 SLE: 0.00 Item: GlowShift Diesel Gauge Package Compatibl...\u001b[0m\n",
      "\u001b[92m13: Guess: $64.99 Truth: $64.99 Error: $0.00 SLE: 0.00 Item: Macally Ultra Slim Wired Computer Keyboa...\u001b[0m\n",
      "\u001b[93m14: Guess: $224.00 Truth: $284.90 Error: $60.90 SLE: 0.06 Item: (2) Rockville RockWedge LED White Batter...\u001b[0m\n",
      "\u001b[92m15: Guess: $499.99 Truth: $609.00 Error: $109.01 SLE: 0.04 Item: Vivid Storm Since 2004-Projection Screen...\u001b[0m\n",
      "\u001b[93m16: Guess: $119.99 Truth: $57.99 Error: $62.00 SLE: 0.52 Item: BLU J4-5.5\" GSM Unlocked 32GB Dual Sim 8...\u001b[0m\n",
      "\u001b[93m17: Guess: $49.99 Truth: $113.53 Error: $63.54 SLE: 0.65 Item: Medicos JoJo's Bizarre Adventure: Part 4...\u001b[0m\n",
      "\u001b[92m18: Guess: $59.99 Truth: $36.99 Error: $23.00 SLE: 0.22 Item: 1994-1996 Chevy Impala Carpet Dash Cover...\u001b[0m\n",
      "\u001b[93m19: Guess: $209.99 Truth: $320.27 Error: $110.28 SLE: 0.18 Item: J.W. Speaker 0347531 Model 279 J 12-24V ...\u001b[0m\n",
      "\u001b[92m20: Guess: $202.99 Truth: $177.16 Error: $25.83 SLE: 0.02 Item: AutoShack SUSPPK01403 Front & Rear Compl...\u001b[0m\n",
      "\u001b[93m21: Guess: $186.86 Truth: $292.02 Error: $105.16 SLE: 0.20 Item: ASUS ATX DDR3 2400 Motherboards A88X-Pro\u001b[0m\n",
      "\u001b[91m22: Guess: $139.99 Truth: $249.98 Error: $109.99 SLE: 0.33 Item: LEIVI Electric Bidet Smart Toilet Seat w...\u001b[0m\n",
      "\u001b[92m23: Guess: $65.99 Truth: $85.98 Error: $19.99 SLE: 0.07 Item: 【Four Indicator Lights】6500mAh 2Pack Rep...\u001b[0m\n",
      "\u001b[92m24: Guess: $40.99 Truth: $76.79 Error: $35.80 SLE: 0.38 Item: homdiy Cabinet Handles Kitchen Cabinet P...\u001b[0m\n",
      "\u001b[92m25: Guess: $109.99 Truth: $89.99 Error: $20.00 SLE: 0.04 Item: LED Par Lights IP67 Waterproof Stage Lig...\u001b[0m\n",
      "\u001b[92m26: Guess: $69.99 Truth: $33.99 Error: $36.00 SLE: 0.50 Item: Swan 2-in-1 Dual-sided Tremolo Harmonica...\u001b[0m\n",
      "\u001b[92m27: Guess: $34.99 Truth: $68.73 Error: $33.74 SLE: 0.44 Item: HEADLIGHTSDEPOT Park Signal Light Set Co...\u001b[0m\n",
      "\u001b[92m28: Guess: $299.99 Truth: $359.99 Error: $60.00 SLE: 0.03 Item: Can-Am Half Windshield Assembly 71500528...\u001b[0m\n",
      "\u001b[91m29: Guess: $90.99 Truth: $181.99 Error: $91.00 SLE: 0.47 Item: Aquaboon 5 Micron 20\" Pleated Sediment W...\u001b[0m\n",
      "\u001b[92m30: Guess: $49.99 Truth: $42.99 Error: $7.00 SLE: 0.02 Item: Vodafone NZ Travel SIM 10 GB + Unlimited...\u001b[0m\n",
      "\u001b[92m31: Guess: $266.00 Truth: $310.10 Error: $44.10 SLE: 0.02 Item: Grohe 2312900A Eurocube S-Size Single-Ha...\u001b[0m\n",
      "\u001b[92m32: Guess: $869.00 Truth: $869.00 Error: $0.00 SLE: 0.00 Item: Lenovo 2023 ThinkCentre M750q Tiny 1L Bu...\u001b[0m\n",
      "\u001b[92m33: Guess: $24.99 Truth: $8.95 Error: $16.04 SLE: 0.92 Item: Inktoneram Compatible Toner Cartridge Re...\u001b[0m\n",
      "\u001b[93m34: Guess: $121.99 Truth: $43.56 Error: $78.43 SLE: 1.03 Item: MAGID TWT25K DuraMaster Select Cow Split...\u001b[0m\n",
      "\u001b[92m35: Guess: $99.99 Truth: $117.95 Error: $17.96 SLE: 0.03 Item: Fit System Driver Side Mirror for Dodge ...\u001b[0m\n",
      "\u001b[92m36: Guess: $507.99 Truth: $507.99 Error: $0.00 SLE: 0.00 Item: Covercraft Custom Fit Car Covers Form-Fi...\u001b[0m\n",
      "\u001b[92m37: Guess: $198.00 Truth: $195.00 Error: $3.00 SLE: 0.00 Item: Matte Black AVT Style Bull Bar Brush Pus...\u001b[0m\n",
      "\u001b[92m38: Guess: $135.99 Truth: $163.00 Error: $27.01 SLE: 0.03 Item: AUTOSAVER88 Catalytic Converter Compatib...\u001b[0m\n",
      "\u001b[92m39: Guess: $24.99 Truth: $17.99 Error: $7.00 SLE: 0.10 Item: Qiopertar Remote Control Car Lying Down ...\u001b[0m\n",
      "\u001b[92m40: Guess: $679.00 Truth: $654.00 Error: $25.00 SLE: 0.00 Item: AIMS POWER PICOGLF25W12V120AL Green 2500...\u001b[0m\n",
      "\u001b[92m41: Guess: $53.99 Truth: $46.99 Error: $7.00 SLE: 0.02 Item: Tavaski Rear View Backup Parking Assist ...\u001b[0m\n",
      "\u001b[92m42: Guess: $251.30 Truth: $265.00 Error: $13.70 SLE: 0.00 Item: MAXLINER Floor Mats 3 Rows and Cargo Lin...\u001b[0m\n",
      "\u001b[92m43: Guess: $229.50 Truth: $250.22 Error: $20.72 SLE: 0.01 Item: Magnate M140E12T3 Carbide Tipped Bandsaw...\u001b[0m\n",
      "\u001b[92m44: Guess: $49.99 Truth: $21.99 Error: $28.00 SLE: 0.63 Item: VONADO Breath of The Wild Sheikah Slate ...\u001b[0m\n",
      "\u001b[91m45: Guess: $200.00 Truth: $499.96 Error: $299.96 SLE: 0.83 Item: Toshiba D-RW2 DVD Player/Recorder\u001b[0m\n",
      "\u001b[92m46: Guess: $242.26 Truth: $271.34 Error: $29.08 SLE: 0.01 Item: Callahan CDS02312 FRONT 325mm + REAR 320...\u001b[0m\n",
      "\u001b[92m47: Guess: $261.99 Truth: $225.00 Error: $36.99 SLE: 0.02 Item: HECASA Flip 3-in-1 Windshield Compatible...\u001b[0m\n",
      "\u001b[93m48: Guess: $271.99 Truth: $196.99 Error: $75.00 SLE: 0.10 Item: ARIES 205031-2 3-Inch Round Polished Sta...\u001b[0m\n",
      "\u001b[91m49: Guess: $119.99 Truth: $199.99 Error: $80.00 SLE: 0.26 Item: BAYCHEER Colorful Crystal Chandeliers, P...\u001b[0m\n",
      "\u001b[92m50: Guess: $2.50 Truth: $2.54 Error: $0.04 SLE: 0.00 Item: YU-GI-OH! - Masked Chameleon (MP14-EN091...\u001b[0m\n",
      "\u001b[92m51: Guess: $299.99 Truth: $344.49 Error: $44.50 SLE: 0.02 Item: HP Color LaserJet 2600n Printer (Q6455A#...\u001b[0m\n",
      "\u001b[92m52: Guess: $312.00 Truth: $310.00 Error: $2.00 SLE: 0.00 Item: Made in USA! Compatible with 2002-2008 D...\u001b[0m\n",
      "\u001b[93m53: Guess: $204.99 Truth: $315.99 Error: $111.00 SLE: 0.19 Item: ACANII - For 2015-2019 Chevy Silverado 2...\u001b[0m\n",
      "\u001b[92m54: Guess: $348.12 Truth: $335.70 Error: $12.42 SLE: 0.00 Item: Black Horse Black Aluminum Premium Runni...\u001b[0m\n",
      "\u001b[92m55: Guess: $291.75 Truth: $281.36 Error: $10.39 SLE: 0.00 Item: Konig Hypergram Wheels Matte Grey Alumin...\u001b[0m\n",
      "\u001b[93m56: Guess: $149.99 Truth: $219.00 Error: $69.01 SLE: 0.14 Item: Boss CE-2W Waza Craft Chorus Pedal\u001b[0m\n",
      "\u001b[91m57: Guess: $399.00 Truth: $249.99 Error: $149.01 SLE: 0.22 Item: Gigabyte AORUS Radeon RX 5700 XT 8G Grap...\u001b[0m\n",
      "\u001b[92m58: Guess: $354.00 Truth: $320.00 Error: $34.00 SLE: 0.01 Item: House of Troy P14-250-617 Upright Piano ...\u001b[0m\n",
      "\u001b[92m59: Guess: $149.99 Truth: $154.99 Error: $5.00 SLE: 0.00 Item: Husqvarna PowerParts 60 Piece 3/8\" Tool ...\u001b[0m\n",
      "\u001b[92m60: Guess: $188.38 Truth: $188.38 Error: $0.00 SLE: 0.00 Item: Front Sport Buckets Seats, CalTrend Twee...\u001b[0m\n",
      "\u001b[92m61: Guess: $49.99 Truth: $73.74 Error: $23.75 SLE: 0.15 Item: Car Laptop Mount, Foldable Vehicle Backs...\u001b[0m\n",
      "\u001b[92m62: Guess: $299.99 Truth: $299.99 Error: $0.00 SLE: 0.00 Item: PEDAL COMMANDER for Chrysler Sebring (20...\u001b[0m\n",
      "\u001b[93m63: Guess: $393.41 Truth: $301.24 Error: $92.17 SLE: 0.07 Item: Cardone 27-8406 Remanufactured Power Ste...\u001b[0m\n",
      "\u001b[93m64: Guess: $475.96 Truth: $395.96 Error: $80.00 SLE: 0.03 Item: Hot Rods CBK0107 Bottom End Kit\u001b[0m\n",
      "\u001b[93m65: Guess: $304.99 Truth: $249.98 Error: $55.01 SLE: 0.04 Item: Power Stop JBR1199XPR Front Evolution Dr...\u001b[0m\n",
      "\u001b[93m66: Guess: $194.95 Truth: $126.60 Error: $68.35 SLE: 0.18 Item: AutoShack SCD1159-PR65128LR Front and Re...\u001b[0m\n",
      "\u001b[92m67: Guess: $29.99 Truth: $34.99 Error: $5.00 SLE: 0.02 Item: POWERTEC 70149-P4 Dust Control Flex Cuff...\u001b[0m\n",
      "\u001b[92m68: Guess: $279.41 Truth: $310.41 Error: $31.00 SLE: 0.01 Item: AC Compressor & A/C Kit For Volkswagen V...\u001b[0m\n",
      "\u001b[92m69: Guess: $35.00 Truth: $45.00 Error: $10.00 SLE: 0.06 Item: PUV-14 UV Lamp for PUV14 Series by DUALM...\u001b[0m\n",
      "\u001b[92m70: Guess: $22.99 Truth: $10.20 Error: $12.79 SLE: 0.58 Item: Heaven2017 Set of 10 Filter Clean Replac...\u001b[0m\n",
      "\u001b[91m71: Guess: $1,199.00 Truth: $379.98 Error: $819.02 SLE: 1.32 Item: Quoizel EON5009WT Eons Candle Chandelier...\u001b[0m\n",
      "\u001b[92m72: Guess: $399.00 Truth: $395.00 Error: $4.00 SLE: 0.00 Item: NP-0801DU Remote Power Switched PDU, TUV...\u001b[0m\n",
      "\u001b[91m73: Guess: $145.99 Truth: $329.99 Error: $184.00 SLE: 0.66 Item: Thunder Parts ESD5111 |100% GAC Original...\u001b[0m\n",
      "\u001b[91m74: Guess: $294.90 Truth: $530.43 Error: $235.53 SLE: 0.34 Item: Yukon Gear & Axle (YP SJ-733X-733) Chrom...\u001b[0m\n",
      "\u001b[93m75: Guess: $327.82 Truth: $257.30 Error: $70.52 SLE: 0.06 Item: AISIN TBN-001 Electronic Throttle Body\u001b[0m\n",
      "\u001b[91m76: Guess: $88.45 Truth: $238.81 Error: $150.36 SLE: 0.97 Item: Souyokusha Sword Art Online: Alicization...\u001b[0m\n",
      "\u001b[91m77: Guess: $366.43 Truth: $213.78 Error: $152.65 SLE: 0.29 Item: ACDelco GM Original Equipment 20756714 P...\u001b[0m\n",
      "\u001b[93m78: Guess: $154.99 Truth: $227.00 Error: $72.01 SLE: 0.14 Item: PAC GM3ARSTX / GM3A-RSTX / GM3A-RSTX Rad...\u001b[0m\n",
      "\u001b[92m79: Guess: $37.99 Truth: $8.49 Error: $29.50 SLE: 2.00 Item: wendells Bulk Lot of 5 Healing Spirit of...\u001b[0m\n",
      "\u001b[92m80: Guess: $265.41 Truth: $295.41 Error: $30.00 SLE: 0.01 Item: New Pair Duralo Front Strut & Spring Ass...\u001b[0m\n",
      "\u001b[93m81: Guess: $195.75 Truth: $153.92 Error: $41.83 SLE: 0.06 Item: Technical Precision Replacement for Sawy...\u001b[0m\n",
      "\u001b[92m82: Guess: $29.99 Truth: $22.97 Error: $7.02 SLE: 0.07 Item: Huge, New Years Eve Party Supplies 2023 ...\u001b[0m\n",
      "\u001b[92m83: Guess: $244.95 Truth: $244.95 Error: $0.00 SLE: 0.00 Item: SuperATV Front Disc Brake Conversion Kit...\u001b[0m\n",
      "\u001b[92m84: Guess: $209.99 Truth: $192.95 Error: $17.04 SLE: 0.01 Item: On-Stage WS7500 Series Workstation Rack ...\u001b[0m\n",
      "\u001b[91m85: Guess: $399.99 Truth: $239.85 Error: $160.14 SLE: 0.26 Item: Raven Select Document Scanner Bundle wit...\u001b[0m\n",
      "\u001b[92m86: Guess: $392.45 Truth: $344.16 Error: $48.29 SLE: 0.02 Item: Istanbul Mehmet Cymbals Signature Series...\u001b[0m\n",
      "\u001b[92m87: Guess: $29.99 Truth: $31.99 Error: $2.00 SLE: 0.00 Item: 3 in 1 Wireless Charger Stand Foldable W...\u001b[0m\n",
      "\u001b[93m88: Guess: $210.99 Truth: $157.99 Error: $53.00 SLE: 0.08 Item: Front & Rear Brake Rotor & Semi Metallic...\u001b[0m\n",
      "\u001b[91m89: Guess: $149.99 Truth: $320.45 Error: $170.46 SLE: 0.57 Item: TACO Metals Marine Neptune Universal Lea...\u001b[0m\n",
      "\u001b[92m90: Guess: $124.99 Truth: $130.99 Error: $6.00 SLE: 0.00 Item: Bryant / Carrier Air Purifier Cartridge ...\u001b[0m\n",
      "\u001b[93m91: Guess: $104.99 Truth: $164.99 Error: $60.00 SLE: 0.20 Item: Auto Ventshade [AVS] Aeroskin Hood Prote...\u001b[0m\n",
      "\u001b[92m92: Guess: $34.99 Truth: $26.99 Error: $8.00 SLE: 0.06 Item: KONGTENBUY- 245xl 246xl Ink Cartridge Re...\u001b[0m\n",
      "\u001b[92m93: Guess: $6.99 Truth: $18.13 Error: $11.14 SLE: 0.76 Item: Yummy Sticky Notes Novelty Food Snacks S...\u001b[0m\n",
      "\u001b[92m94: Guess: $784.99 Truth: $719.99 Error: $65.00 SLE: 0.01 Item: Torklift E1536 SuperTruss 36\" Extension\u001b[0m\n",
      "\u001b[92m95: Guess: $239.99 Truth: $239.95 Error: $0.04 SLE: 0.00 Item: DS18 G1800.4D Car Audio Amplifier 4 Chan...\u001b[0m\n",
      "\u001b[92m96: Guess: $135.99 Truth: $135.99 Error: $0.00 SLE: 0.00 Item: AirTec Lube-Shuttle® Pistol Grip Moly Gr...\u001b[0m\n",
      "\u001b[92m97: Guess: $258.95 Truth: $265.23 Error: $6.28 SLE: 0.00 Item: APS iArmor Stainless Steel 6.5in Nerf Ba...\u001b[0m\n",
      "\u001b[93m98: Guess: $157.91 Truth: $224.49 Error: $66.58 SLE: 0.12 Item: Safco Products 4139CH Rotary Floor Displ...\u001b[0m\n",
      "\u001b[92m99: Guess: $109.99 Truth: $94.58 Error: $15.41 SLE: 0.02 Item: Barbie Collector Basics Model #17 - Coll...\u001b[0m\n",
      "\u001b[92m100: Guess: $209.99 Truth: $253.03 Error: $43.04 SLE: 0.03 Item: Dynamic Desk Clamp Mount, Single Monitor\u001b[0m\n",
      "\u001b[93m101: Guess: $102.99 Truth: $158.99 Error: $56.00 SLE: 0.19 Item: Naiture 18\" Brass Wall Mounted Double To...\u001b[0m\n",
      "\u001b[92m102: Guess: $329.99 Truth: $407.79 Error: $77.80 SLE: 0.04 Item: WULF 3.5\" Adj Front 2\" Rear Lift Kit wit...\u001b[0m\n",
      "\u001b[92m103: Guess: $29.99 Truth: $31.99 Error: $2.00 SLE: 0.00 Item: AutoTech Park Sunshade Compatible with 2...\u001b[0m\n",
      "\u001b[93m104: Guess: $99.99 Truth: $148.68 Error: $48.69 SLE: 0.15 Item: ASUS A8V-X S939 VIA K8T800Pro DDR-400 AT...\u001b[0m\n",
      "\u001b[93m105: Guess: $200.99 Truth: $125.99 Error: $75.00 SLE: 0.22 Item: Air Conditioning Compressor Clutch Compa...\u001b[0m\n",
      "\u001b[92m106: Guess: $12.99 Truth: $11.98 Error: $1.01 SLE: 0.01 Item: Pilot FriXion Ball Clicker Retractable E...\u001b[0m\n",
      "\u001b[93m107: Guess: $39.99 Truth: $90.99 Error: $51.00 SLE: 0.65 Item: Transformers Toys Studio Series 57 Delux...\u001b[0m\n",
      "\u001b[91m108: Guess: $54.99 Truth: $170.99 Error: $116.00 SLE: 1.26 Item: US Cargo Control Wheel Bonnet with Swive...\u001b[0m\n",
      "\u001b[92m109: Guess: $169.99 Truth: $199.00 Error: $29.01 SLE: 0.02 Item: Huanyu Hydraulic Nut Splitter Tool Heavy...\u001b[0m\n",
      "\u001b[92m110: Guess: $649.99 Truth: $668.00 Error: $18.01 SLE: 0.00 Item: Lenovo E15 AMD G3 R5 8G 256G 10P\u001b[0m\n",
      "\u001b[92m111: Guess: $205.52 Truth: $205.52 Error: $0.00 SLE: 0.00 Item: Rear 40/60 Split Back & Solid Cushion Se...\u001b[0m\n",
      "\u001b[92m112: Guess: $202.50 Truth: $218.95 Error: $16.45 SLE: 0.01 Item: Tein SKP38-BUB00 High.Tech Lowering Spri...\u001b[0m\n",
      "\u001b[92m113: Guess: $99.95 Truth: $99.00 Error: $0.95 SLE: 0.00 Item: Topo Comfort Mat by Ergodriven | The Not...\u001b[0m\n",
      "\u001b[92m114: Guess: $698.00 Truth: $728.79 Error: $30.79 SLE: 0.00 Item: Robert Abbey 651B Lamps with Black Parch...\u001b[0m\n",
      "\u001b[92m115: Guess: $332.25 Truth: $328.99 Error: $3.26 SLE: 0.00 Item: RockTrix RT101 4pc 12in ATV Wheels 4x110...\u001b[0m\n",
      "\u001b[93m116: Guess: $199.00 Truth: $252.49 Error: $53.49 SLE: 0.06 Item: Yale Assure Lever - Z-Wave Smart Door Le...\u001b[0m\n",
      "\u001b[92m117: Guess: $21.99 Truth: $21.16 Error: $0.83 SLE: 0.00 Item: Milwaukee 48-42-5190 3-Inch, 14 Teeth pe...\u001b[0m\n",
      "\u001b[93m118: Guess: $195.00 Truth: $249.97 Error: $54.97 SLE: 0.06 Item: Magic Makers Professional Square Circle ...\u001b[0m\n",
      "\u001b[92m119: Guess: $351.77 Truth: $351.77 Error: $0.00 SLE: 0.00 Item: Can-Am Linq Cooler 295100698 New Oem\u001b[0m\n",
      "\u001b[92m120: Guess: $99.99 Truth: $98.99 Error: $1.00 SLE: 0.00 Item: BTSHUB Router Bit Set 1/4 inch Shank 100...\u001b[0m\n",
      "\u001b[93m121: Guess: $150.99 Truth: $206.99 Error: $56.00 SLE: 0.10 Item: DRIVESTAR 185128 185129 Front Brake Cali...\u001b[0m\n",
      "\u001b[92m122: Guess: $248.97 Truth: $306.97 Error: $58.00 SLE: 0.04 Item: Power Stop KCOE2061 Autospecialty 1-Clic...\u001b[0m\n",
      "\u001b[92m123: Guess: $265.98 Truth: $260.00 Error: $5.98 SLE: 0.00 Item: Xfinity XE2-SG 2nd Generation XFI Pod Mo...\u001b[0m\n",
      "\u001b[92m124: Guess: $81.99 Truth: $81.99 Error: $0.00 SLE: 0.00 Item: Covercraft UV10828SV Silver UVS 100 Cust...\u001b[0m\n",
      "\u001b[92m125: Guess: $24.99 Truth: $20.99 Error: $4.00 SLE: 0.03 Item: Integy RC Model T3178 34T Steel Spur Gea...\u001b[0m\n",
      "\u001b[93m126: Guess: $149.99 Truth: $239.90 Error: $89.91 SLE: 0.22 Item: Canon VIXIA HG20 AVCHD 60 GB HDD Camcord...\u001b[0m\n",
      "\u001b[92m127: Guess: $349.99 Truth: $339.99 Error: $10.00 SLE: 0.00 Item: BitMinerex 8 GPU Mining Rig (No GPUs), B...\u001b[0m\n",
      "\u001b[92m128: Guess: $10.99 Truth: $20.87 Error: $9.88 SLE: 0.36 Item: Funko Mystery Mini Blind Box: Disney: NB...\u001b[0m\n",
      "\u001b[93m129: Guess: $149.99 Truth: $79.99 Error: $70.00 SLE: 0.39 Item: Sonim XP3 XP3800 4G LTE flip Phone Sprin...\u001b[0m\n",
      "\u001b[91m130: Guess: $114.99 Truth: $229.90 Error: $114.91 SLE: 0.47 Item: Brother Genuine TN770 2-Pack Super High ...\u001b[0m\n",
      "\u001b[93m131: Guess: $312.75 Truth: $228.78 Error: $83.97 SLE: 0.10 Item: hansgrohe 31261001 Metris S 5-inch Tall ...\u001b[0m\n",
      "\u001b[92m132: Guess: $799.00 Truth: $799.00 Error: $0.00 SLE: 0.00 Item: Autel MaxiPRO MP808BT PRO KIT: [2-Year U...\u001b[0m\n",
      "\u001b[92m133: Guess: $118.95 Truth: $91.95 Error: $27.00 SLE: 0.07 Item: Hunter Fan 52 inch Contemporary Matte Ni...\u001b[0m\n",
      "\u001b[91m134: Guess: $249.99 Truth: $426.03 Error: $176.04 SLE: 0.28 Item: aFe Power 46-70240 GM Trucks Transmissio...\u001b[0m\n",
      "\u001b[91m135: Guess: $49.99 Truth: $185.75 Error: $135.76 SLE: 1.69 Item: Hasbro Indiana Jones Raiders of The Lost...\u001b[0m\n",
      "\u001b[93m136: Guess: $64.99 Truth: $131.18 Error: $66.19 SLE: 0.48 Item: LockNLube Professional Series Lever Grea...\u001b[0m\n",
      "\u001b[91m137: Guess: $39.99 Truth: $131.00 Error: $91.01 SLE: 1.37 Item: LeakSmart Range Extender, Signal Strengt...\u001b[0m\n",
      "\u001b[92m138: Guess: $3.26 Truth: $3.26 Error: $0.00 SLE: 0.00 Item: 4Keyboard Japanese Hiragana Keyboard Sti...\u001b[0m\n",
      "\u001b[93m139: Guess: $187.99 Truth: $145.99 Error: $42.00 SLE: 0.06 Item: Power Stop K2139 Front Z23 Carbon Fiber ...\u001b[0m\n",
      "\u001b[92m140: Guess: $203.49 Truth: $213.15 Error: $9.66 SLE: 0.00 Item: IMS ADV I Footpegs (Standard) Compatible...\u001b[0m\n",
      "\u001b[93m141: Guess: $269.99 Truth: $367.00 Error: $97.01 SLE: 0.09 Item: Albion Engineering DL-45-T14E Profession...\u001b[0m\n",
      "\u001b[93m142: Guess: $225.75 Truth: $320.05 Error: $94.30 SLE: 0.12 Item: Securitron Stainless Steel Narrow Stile ...\u001b[0m\n",
      "\u001b[91m143: Guess: $339.99 Truth: $239.99 Error: $100.00 SLE: 0.12 Item: Hooke Road for Jeep Wrangler YJ & TJ Ste...\u001b[0m\n",
      "\u001b[92m144: Guess: $25.99 Truth: $36.58 Error: $10.59 SLE: 0.11 Item: Metra TurboWires 70-6510 Wiring Harness\u001b[0m\n",
      "\u001b[92m145: Guess: $238.99 Truth: $265.23 Error: $26.24 SLE: 0.01 Item: Piaa 02770 LP270 2.75\" LED Fog Light Kit...\u001b[0m\n",
      "\u001b[93m146: Guess: $319.99 Truth: $249.95 Error: $70.04 SLE: 0.06 Item: Oscar Schmidt Auditorium Florentine A/E ...\u001b[0m\n",
      "\u001b[92m147: Guess: $289.00 Truth: $299.90 Error: $10.90 SLE: 0.00 Item: Makita XFD12T 5.0 Ah 18V LXT Lithium-Ion...\u001b[0m\n",
      "\u001b[92m148: Guess: $114.99 Truth: $106.90 Error: $8.09 SLE: 0.01 Item: Pop & Lock PL8450 Power Tailgate Lock fo...\u001b[0m\n",
      "\u001b[92m149: Guess: $150.99 Truth: $111.99 Error: $39.00 SLE: 0.09 Item: Power Stop CRK6093 Coated Brake Rotor & ...\u001b[0m\n",
      "\u001b[92m150: Guess: $12.99 Truth: $3.99 Error: $9.00 SLE: 1.06 Item: 500 Pieces 2021 Graduation Decorations L...\u001b[0m\n",
      "\u001b[91m151: Guess: $452.53 Truth: $247.99 Error: $204.54 SLE: 0.36 Item: DEWALT 20V MAX* XR Impact Driver with Bl...\u001b[0m\n",
      "\u001b[93m152: Guess: $199.99 Truth: $152.50 Error: $47.49 SLE: 0.07 Item: Front Suspension Kit Control Arms Ball J...\u001b[0m\n",
      "\u001b[92m153: Guess: $41.99 Truth: $39.95 Error: $2.04 SLE: 0.00 Item: Fat Toad XLR Microphone Cables (2 Pack) ...\u001b[0m\n",
      "\u001b[92m154: Guess: $24.99 Truth: $16.99 Error: $8.00 SLE: 0.14 Item: 17\" Sunflower Flower Plush Pillow,Smile ...\u001b[0m\n",
      "\u001b[92m155: Guess: $359.19 Truth: $359.19 Error: $0.00 SLE: 0.00 Item: Derale Performance 16838 Gray/Black High...\u001b[0m\n",
      "\u001b[92m156: Guess: $319.99 Truth: $389.99 Error: $70.00 SLE: 0.04 Item: POWERTEC PL1252 15 Amp 2-Blade Benchtop ...\u001b[0m\n",
      "\u001b[92m157: Guess: $399.90 Truth: $388.00 Error: $11.90 SLE: 0.00 Item: Canon Portrait & Travel 2 Lens Kit - EF ...\u001b[0m\n",
      "\u001b[91m158: Guess: $199.00 Truth: $345.30 Error: $146.30 SLE: 0.30 Item: GarageVac GH120-G Gray Surface Mounted V...\u001b[0m\n",
      "\u001b[92m159: Guess: $233.19 Truth: $243.99 Error: $10.80 SLE: 0.00 Item: 3D MAXpider Acura MDX 2017-2020 (2nd Row...\u001b[0m\n",
      "\u001b[93m160: Guess: $249.99 Truth: $179.99 Error: $70.00 SLE: 0.11 Item: Color + Plus OVO Modern Floor Lamp Stand...\u001b[0m\n",
      "\u001b[91m161: Guess: $429.99 Truth: $299.99 Error: $130.00 SLE: 0.13 Item: Kyosho 1/12 Blizzard 2.0 Brushed RTR KYO...\u001b[0m\n",
      "\u001b[91m162: Guess: $49.99 Truth: $319.95 Error: $269.96 SLE: 3.38 Item: Strictly Diesel Dipstick Adapter Repair ...\u001b[0m\n",
      "\u001b[92m163: Guess: $239.97 Truth: $250.27 Error: $10.30 SLE: 0.00 Item: PM Auto Set 4 Front Quick Complete Strut...\u001b[0m\n",
      "\u001b[92m164: Guess: $56.99 Truth: $56.99 Error: $0.00 SLE: 0.00 Item: TOROSUS M.2 NGFF 22 * 42mm M.2 2242 240G...\u001b[0m\n",
      "\u001b[92m165: Guess: $549.99 Truth: $499.99 Error: $50.00 SLE: 0.01 Item: NT FAIRING Glossy Matte Black Injection ...\u001b[0m\n",
      "\u001b[92m166: Guess: $204.29 Truth: $170.04 Error: $34.25 SLE: 0.03 Item: Detroit Axle - Front Brake Kit for 4WD 8...\u001b[0m\n",
      "\u001b[92m167: Guess: $499.99 Truth: $539.99 Error: $40.00 SLE: 0.01 Item: MasterTop Replacement Soft Top in Spice ...\u001b[0m\n",
      "\u001b[92m168: Guess: $182.95 Truth: $176.99 Error: $5.96 SLE: 0.00 Item: SAFAVIEH Lighting Collection Spring Blos...\u001b[0m\n",
      "\u001b[92m169: Guess: $49.95 Truth: $21.49 Error: $28.46 SLE: 0.67 Item: NY Over Ear Best Stereo Extra Bass Porta...\u001b[0m\n",
      "\u001b[92m170: Guess: $87.99 Truth: $69.95 Error: $18.04 SLE: 0.05 Item: Bruder 09820 John Deere 6920 with Tippin...\u001b[0m\n",
      "\u001b[92m171: Guess: $249.99 Truth: $244.95 Error: $5.04 SLE: 0.00 Item: Grandstream Networks Android Enterprise ...\u001b[0m\n",
      "\u001b[92m172: Guess: $1.50 Truth: $1.44 Error: $0.06 SLE: 0.00 Item: YU-GI-OH! - Brotherhood of The Fire Fist...\u001b[0m\n",
      "\u001b[92m173: Guess: $59.99 Truth: $66.79 Error: $6.80 SLE: 0.01 Item: Mainboard Replacement WiFi Motherboard P...\u001b[0m\n",
      "\u001b[92m174: Guess: $36.99 Truth: $24.28 Error: $12.71 SLE: 0.17 Item: SEBLAFF 2-Pack Park Signal Corner Marker...\u001b[0m\n",
      "\u001b[92m175: Guess: $549.00 Truth: $524.00 Error: $25.00 SLE: 0.00 Item: ASUS VivoBook 17 F712DA Thin and Light L...\u001b[0m\n",
      "\u001b[91m176: Guess: $156.47 Truth: $374.97 Error: $218.50 SLE: 0.76 Item: ACDelco GM Original Equipment 84178213 R...\u001b[0m\n",
      "\u001b[91m177: Guess: $99.14 Truth: $239.14 Error: $140.00 SLE: 0.77 Item: GlobPro 1469050 2313741 W10217917 Ice Ma...\u001b[0m\n",
      "\u001b[92m178: Guess: $64.87 Truth: $68.57 Error: $3.70 SLE: 0.00 Item: Siwdoy 5303918344 Ice Maker Compatible w...\u001b[0m\n",
      "\u001b[93m179: Guess: $139.99 Truth: $208.00 Error: $68.01 SLE: 0.15 Item: Okidata OKI 46490603 High Capacity Cyan ...\u001b[0m\n",
      "\u001b[91m180: Guess: $120.00 Truth: $39.99 Error: $80.01 SLE: 1.17 Item: Sony MVCCD300 3MP Digital Camera with 3x...\u001b[0m\n",
      "\u001b[92m181: Guess: $69.99 Truth: $92.69 Error: $22.70 SLE: 0.08 Item: Oumefar 9pcs/set Cross Sliding Drill Pre...\u001b[0m\n",
      "\u001b[92m182: Guess: $59.01 Truth: $48.81 Error: $10.20 SLE: 0.03 Item: BRIGHTFOCAL New Screen Replacement for N...\u001b[0m\n",
      "\u001b[92m183: Guess: $239.95 Truth: $206.95 Error: $33.00 SLE: 0.02 Item: MPC Factory Remote Activated Remote Star...\u001b[0m\n",
      "\u001b[91m184: Guess: $120.99 Truth: $903.37 Error: $782.38 SLE: 4.01 Item: TRUEGARD 5W-30 Dexos Approved Motor Oil ...\u001b[0m\n",
      "\u001b[92m185: Guess: $29.99 Truth: $16.99 Error: $13.00 SLE: 0.30 Item: Halloween Alien Headband and Metallic Sk...\u001b[0m\n",
      "\u001b[92m186: Guess: $215.99 Truth: $184.84 Error: $31.15 SLE: 0.02 Item: Pentek R50-BB 50 Micron 10 x 4.5 Whole H...\u001b[0m\n",
      "\u001b[92m187: Guess: $399.99 Truth: $369.99 Error: $30.00 SLE: 0.01 Item: NEW 55-57 CHEVY 365 BELLHOUSING, CLUTCH ...\u001b[0m\n",
      "\u001b[93m188: Guess: $259.00 Truth: $214.95 Error: $44.05 SLE: 0.03 Item: Movo Location Sound Production Bundle fo...\u001b[0m\n",
      "\u001b[92m189: Guess: $69.99 Truth: $62.99 Error: $7.00 SLE: 0.01 Item: HIGIINC Parking Sign Post 48\" Heavy Duty...\u001b[0m\n",
      "\u001b[92m190: Guess: $243.48 Truth: $254.65 Error: $11.17 SLE: 0.00 Item: Kuryakyn 2713 MTX Road Thunder Weather R...\u001b[0m\n",
      "\u001b[92m191: Guess: $110.00 Truth: $110.00 Error: $0.00 SLE: 0.00 Item: ASV Inventions CRF340-SK F3 Sport Black ...\u001b[0m\n",
      "\u001b[92m192: Guess: $249.95 Truth: $289.99 Error: $40.04 SLE: 0.02 Item: James Neligan Series 4 String Acoustic G...\u001b[0m\n",
      "\u001b[92m193: Guess: $12.99 Truth: $24.94 Error: $11.95 SLE: 0.38 Item: Rainbow Emoji Poop Pillow Soft Plush\u001b[0m\n",
      "\u001b[92m194: Guess: $9.99 Truth: $2.99 Error: $7.00 SLE: 1.03 Item: AOYEGO Fish Mouse Pad Japanese Koi Fish ...\u001b[0m\n",
      "\u001b[92m195: Guess: $34.95 Truth: $32.95 Error: $2.00 SLE: 0.00 Item: Nite Ize Black Executive Genuine Leather...\u001b[0m\n",
      "\u001b[93m196: Guess: $249.99 Truth: $184.99 Error: $65.00 SLE: 0.09 Item: Southwest Wheel 3,500 lbs. Gold Finish D...\u001b[0m\n",
      "\u001b[92m197: Guess: $239.95 Truth: $215.54 Error: $24.41 SLE: 0.01 Item: Bedrug - Jeep Headliner | 2011 - 2018 Je...\u001b[0m\n",
      "\u001b[92m198: Guess: $239.99 Truth: $259.99 Error: $20.00 SLE: 0.01 Item: InnoView 18.5 inch Portable Monitor, 100...\u001b[0m\n",
      "\u001b[92m199: Guess: $229.99 Truth: $249.99 Error: $20.00 SLE: 0.01 Item: Franklin Iron Works Hickory Point Farmho...\u001b[0m\n",
      "\u001b[92m200: Guess: $118.00 Truth: $112.70 Error: $5.30 SLE: 0.00 Item: PAC RP4-CH11 RadioPRO4 Interface for Chr...\u001b[0m\n",
      "\u001b[92m201: Guess: $296.30 Truth: $268.28 Error: $28.02 SLE: 0.01 Item: Kumho Road Venture AT51 All-Terrain Tire...\u001b[0m\n",
      "\u001b[92m202: Guess: $99.00 Truth: $104.95 Error: $5.95 SLE: 0.00 Item: Benro Tablepod Kit with Arca-Swiss Style...\u001b[0m\n",
      "\u001b[92m203: Guess: $249.99 Truth: $219.99 Error: $30.00 SLE: 0.02 Item: 52 inch Smart Ceiling Fan with Remote Co...\u001b[0m\n",
      "\u001b[92m204: Guess: $109.99 Truth: $79.95 Error: $30.04 SLE: 0.10 Item: Adorama Boom Arm with Weight Bag & Light...\u001b[0m\n",
      "\u001b[92m205: Guess: $130.80 Truth: $106.37 Error: $24.43 SLE: 0.04 Item: Auto Ventshade AVS 37617 Dark Smoke Head...\u001b[0m\n",
      "\u001b[92m206: Guess: $139.99 Truth: $129.99 Error: $10.00 SLE: 0.01 Item: HDMI Wireless Transmitter and Receiver 4...\u001b[0m\n",
      "\u001b[92m207: Guess: $74.50 Truth: $72.63 Error: $1.87 SLE: 0.00 Item: WJB WA512334 - Rear Wheel Hub Bearing As...\u001b[0m\n",
      "\u001b[92m208: Guess: $119.99 Truth: $129.99 Error: $10.00 SLE: 0.01 Item: KYX 2015-2023 F150 Super Crew Floor Mats...\u001b[0m\n",
      "\u001b[92m209: Guess: $190.75 Truth: $190.75 Error: $0.00 SLE: 0.00 Item: Dawn Enterprises CI2-PILOT16 Color Inser...\u001b[0m\n",
      "\u001b[93m210: Guess: $479.99 Truth: $350.96 Error: $129.03 SLE: 0.10 Item: Lorell LLR41305 Fortress Series Storage ...\u001b[0m\n",
      "\u001b[92m211: Guess: $29.99 Truth: $30.59 Error: $0.60 SLE: 0.00 Item: Larouoba 8pc Diamond Drill Bit, Masonry ...\u001b[0m\n",
      "\u001b[92m212: Guess: $137.99 Truth: $147.97 Error: $9.98 SLE: 0.00 Item: Air Cleaner Chrome Intake Turbine See Th...\u001b[0m\n",
      "\u001b[92m213: Guess: $127.00 Truth: $125.00 Error: $2.00 SLE: 0.00 Item: Verizon Cell Phone Signal Booster Verizo...\u001b[0m\n",
      "\u001b[92m214: Guess: $449.95 Truth: $539.99 Error: $90.04 SLE: 0.03 Item: NEW DIABLOSPORT TRINITY 2 MX IN-CAB TUNE...\u001b[0m\n",
      "\u001b[91m215: Guess: $329.99 Truth: $139.99 Error: $190.00 SLE: 0.73 Item: GRAND ORANG Fender Flares Compatible wit...\u001b[0m\n",
      "\u001b[92m216: Guess: $65.95 Truth: $72.96 Error: $7.01 SLE: 0.01 Item: Realistic Reborn Toddler Baby Dolls Full...\u001b[0m\n",
      "\u001b[91m217: Guess: $41.99 Truth: $156.12 Error: $114.13 SLE: 1.68 Item: Vibrant Performance Power 12517B HD Clam...\u001b[0m\n",
      "\u001b[93m218: Guess: $175.00 Truth: $134.00 Error: $41.00 SLE: 0.07 Item: 45RFE 545RFE 68RFE Transmission Shift So...\u001b[0m\n",
      "\u001b[91m219: Guess: $45.99 Truth: $140.23 Error: $94.24 SLE: 1.21 Item: ROMAN Extreme Tack Wallpaper Adhesive, P...\u001b[0m\n",
      "\u001b[92m220: Guess: $249.99 Truth: $299.00 Error: $49.01 SLE: 0.03 Item: AIR VENT 53560 800CFM Solar Gable Fan\u001b[0m\n",
      "\u001b[93m221: Guess: $367.75 Truth: $278.38 Error: $89.37 SLE: 0.08 Item: AutoExec AUE23002 Efficiency GripMaster ...\u001b[0m\n",
      "\u001b[92m222: Guess: $39.99 Truth: $21.17 Error: $18.82 SLE: 0.38 Item: Avery Heavy Duty View 3 Ring Binder, 4\" ...\u001b[0m\n",
      "\u001b[92m223: Guess: $197.99 Truth: $182.39 Error: $15.60 SLE: 0.01 Item: Makita 9032 3/8\" x 21\" Belt Sander , Blu...\u001b[0m\n",
      "\u001b[92m224: Guess: $157.99 Truth: $174.49 Error: $16.50 SLE: 0.01 Item: EMP Stewart Components EMP/Stewart Compo...\u001b[0m\n",
      "\u001b[92m225: Guess: $179.99 Truth: $188.09 Error: $8.10 SLE: 0.00 Item: CHAUVET DJ, BLACK (FXPAR9)\u001b[0m\n",
      "\u001b[92m226: Guess: $199.99 Truth: $222.08 Error: $22.09 SLE: 0.01 Item: DJ TECH A- B Box, Orange (SL1300MK6USB-O...\u001b[0m\n",
      "\u001b[92m227: Guess: $899.99 Truth: $823.36 Error: $76.63 SLE: 0.01 Item: Acer Swift Go 14 Intel Evo Thin & Light ...\u001b[0m\n",
      "\u001b[92m228: Guess: $499.99 Truth: $493.99 Error: $6.00 SLE: 0.00 Item: iSpring WGB32B 3-Stage Whole House Water...\u001b[0m\n",
      "\u001b[91m229: Guess: $259.99 Truth: $115.32 Error: $144.67 SLE: 0.65 Item: Detroit Axle - Front and Rear Shock Abso...\u001b[0m\n",
      "\u001b[92m230: Guess: $425.00 Truth: $394.00 Error: $31.00 SLE: 0.01 Item: HID MicroProx Tag - 100\u001b[0m\n",
      "\u001b[93m231: Guess: $311.11 Truth: $415.94 Error: $104.83 SLE: 0.08 Item: HS Power Tri-Fold Soft Tonneau Cover Com...\u001b[0m\n",
      "\u001b[93m232: Guess: $399.00 Truth: $499.00 Error: $100.00 SLE: 0.05 Item: Blue Ocean 30\" RH02I Stainless Steel Isl...\u001b[0m\n",
      "\u001b[92m233: Guess: $87.99 Truth: $55.29 Error: $32.70 SLE: 0.21 Item: SuppliesOutlet Compatible Toner Cartridg...\u001b[0m\n",
      "\u001b[93m234: Guess: $189.99 Truth: $285.00 Error: $95.01 SLE: 0.16 Item: Cocoweb 21\" Tru-Slim LED Picture Light i...\u001b[0m\n",
      "\u001b[93m235: Guess: $1,179.00 Truth: $849.99 Error: $329.01 SLE: 0.11 Item: ASUS ExpertBook B5 Thin & Light Business...\u001b[0m\n",
      "\u001b[91m236: Guess: $149.99 Truth: $354.99 Error: $205.00 SLE: 0.74 Item: PLAYOCCAR Vehicle Panel Spot Puller Dent...\u001b[0m\n",
      "\u001b[92m237: Guess: $119.99 Truth: $89.99 Error: $30.00 SLE: 0.08 Item: LUXCEO RGB LED Video Tube Light, 8W 1000...\u001b[0m\n",
      "\u001b[92m238: Guess: $299.95 Truth: $309.95 Error: $10.00 SLE: 0.00 Item: Veto OT-XXL Extra Large Open Top Contrac...\u001b[0m\n",
      "\u001b[92m239: Guess: $45.99 Truth: $72.49 Error: $26.50 SLE: 0.20 Item: Norton 07660704015 6 Pack Rapid Strip No...\u001b[0m\n",
      "\u001b[93m240: Guess: $119.00 Truth: $170.99 Error: $51.99 SLE: 0.13 Item: HPS Performance Blue Silicone Air Intake...\u001b[0m\n",
      "\u001b[92m241: Guess: $234.99 Truth: $274.99 Error: $40.00 SLE: 0.02 Item: HP 14 Laptop, Intel Celeron N4020, 4 GB ...\u001b[0m\n",
      "\u001b[92m242: Guess: $124.99 Truth: $142.99 Error: $18.00 SLE: 0.02 Item: Klein Tools 68222 Ratcheting Box Wrench ...\u001b[0m\n",
      "\u001b[92m243: Guess: $139.99 Truth: $117.98 Error: $22.01 SLE: 0.03 Item: Crystiles Six (6) Assorted Color 12''X 1...\u001b[0m\n",
      "\u001b[92m244: Guess: $68.99 Truth: $89.85 Error: $20.86 SLE: 0.07 Item: Fuel Pump Assembly for Chevrolet Colorad...\u001b[0m\n",
      "\u001b[91m245: Guess: $61.45 Truth: $184.75 Error: $123.30 SLE: 1.19 Item: Gripple - Contractor Tool (Metal)\u001b[0m\n",
      "\u001b[91m246: Guess: $129.95 Truth: $218.76 Error: $88.81 SLE: 0.27 Item: Gemini Sound MPA-3600, 160W Watts, Pro A...\u001b[0m\n",
      "\u001b[93m247: Guess: $168.24 Truth: $101.06 Error: $67.18 SLE: 0.26 Item: National Hardware N186-968 Decorative In...\u001b[0m\n",
      "\u001b[92m248: Guess: $114.99 Truth: $79.96 Error: $35.03 SLE: 0.13 Item: Pair Kicker 47KSC4604 KSC460 4x6\" 75 Wat...\u001b[0m\n",
      "\u001b[93m249: Guess: $299.99 Truth: $399.99 Error: $100.00 SLE: 0.08 Item: SAMSUNG Galaxy S7 Edge Verizon Wireless ...\u001b[0m\n",
      "\u001b[92m250: Guess: $71.05 Truth: $70.91 Error: $0.14 SLE: 0.00 Item: Kik-Step Steel Step Stool, 2-Step, 350 l...\u001b[0m\n"
     ]
    },
    {
     "data": {
      "image/png": "[encoded data removed]",
      "text/plain": [
       "<Figure size 1200x800 with 1 Axes>"
      ]
     },
     "metadata": {},
     "output_type": "display_data"
    }
   ],
   "source": [
    "Tester.test(gpt_4o_mini_rag, test)"
   ]
  },
  {
   "cell_type": "code",
   "execution_count": 23,
   "id": "e6d5deb3-6a2a-4484-872c-37176c5e1f07",
   "metadata": {},
   "outputs": [],
   "source": [
    "from agents.frontier_agent import FrontierAgent"
   ]
  },
  {
   "cell_type": "code",
   "execution_count": 24,
   "id": "56e8dd5d-ed36-49d8-95f7-dc82e548255b",
   "metadata": {},
   "outputs": [],
   "source": [
    "agent = FrontierAgent(collection)"
   ]
  },
  {
   "cell_type": "code",
   "execution_count": 25,
   "id": "980dd126-f675-4499-8817-0cc0bb73e247",
   "metadata": {},
   "outputs": [
    {
     "data": {
      "text/plain": [
       "195.19"
      ]
     },
     "execution_count": 25,
     "metadata": {},
     "output_type": "execute_result"
    }
   ],
   "source": [
    "agent.price(\"Quadcast HyperX condenser mic for high quality podcasting\")"
   ]
  },
  {
   "cell_type": "code",
   "execution_count": 26,
   "id": "66c18a06-d0f1-4ec9-8aff-ec3ca294dd09",
   "metadata": {},
   "outputs": [],
   "source": [
    "from agents.specialist_agent import SpecialistAgent"
   ]
  },
  {
   "cell_type": "code",
   "execution_count": 27,
   "id": "ba672fb4-2c3e-42ee-9ea0-21bfcfc5260c",
   "metadata": {},
   "outputs": [],
   "source": [
    "agent2 = SpecialistAgent()"
   ]
  },
  {
   "cell_type": "code",
   "execution_count": 28,
   "id": "a5a97004-95b4-46ea-b12d-a4ead22fcb2a",
   "metadata": {},
   "outputs": [
    {
     "data": {
      "text/plain": [
       "220.0"
      ]
     },
     "execution_count": 28,
     "metadata": {},
     "output_type": "execute_result"
    }
   ],
   "source": [
    "agent2.price(\"Quadcast HyperX condenser mic for high quality podcasting\")"
   ]
  },
  {
   "cell_type": "code",
   "execution_count": null,
   "id": "26d5ddc6-baa6-4760-a430-05671847ac47",
   "metadata": {},
   "outputs": [],
   "source": []
  }
 ],
 "metadata": {
  "kernelspec": {
   "display_name": "Python 3 (ipykernel)",
   "language": "python",
   "name": "python3"
  },
  "language_info": {
   "codemirror_mode": {
    "name": "ipython",
    "version": 3
   },
   "file_extension": ".py",
   "mimetype": "text/x-python",
   "name": "python",
   "nbconvert_exporter": "python",
   "pygments_lexer": "ipython3",
   "version": "3.11.11"
  }
 },
 "nbformat": 4,
 "nbformat_minor": 5
}
